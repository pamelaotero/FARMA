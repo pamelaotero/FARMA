{
 "cells": [
  {
   "cell_type": "code",
   "execution_count": 13,
   "metadata": {},
   "outputs": [],
   "source": [
    "import pandas as pd"
   ]
  },
  {
   "cell_type": "code",
   "execution_count": 14,
   "metadata": {},
   "outputs": [],
   "source": [
    "df_descarte = pd.read_excel(\"bases/Descarte Farma.XLSX\")\n",
    "df_fornecedor = pd.read_excel(\"bases/fornecedor farma.XLSX\")"
   ]
  },
  {
   "cell_type": "code",
   "execution_count": 15,
   "metadata": {},
   "outputs": [
    {
     "data": {
      "text/plain": [
       "(10736, 10)"
      ]
     },
     "execution_count": 15,
     "metadata": {},
     "output_type": "execute_result"
    }
   ],
   "source": [
    "df_descarte.shape"
   ]
  },
  {
   "cell_type": "code",
   "execution_count": 16,
   "metadata": {},
   "outputs": [
    {
     "data": {
      "text/plain": [
       "Index(['Texto breve material', 'Quantidade', 'Data de lançamento',\n",
       "       'Nota acomp.mercadoria', 'Fornecedor', 'Pedido', 'Material'],\n",
       "      dtype='object')"
      ]
     },
     "execution_count": 16,
     "metadata": {},
     "output_type": "execute_result"
    }
   ],
   "source": [
    "df_fornecedor.columns"
   ]
  },
  {
   "cell_type": "code",
   "execution_count": 17,
   "metadata": {},
   "outputs": [],
   "source": [
    "df_fornecedor = df_fornecedor.drop_duplicates(subset = \"Material\").copy()"
   ]
  },
  {
   "cell_type": "code",
   "execution_count": 18,
   "metadata": {},
   "outputs": [
    {
     "data": {
      "text/plain": [
       "(3718, 7)"
      ]
     },
     "execution_count": 18,
     "metadata": {},
     "output_type": "execute_result"
    }
   ],
   "source": [
    "df_fornecedor.shape"
   ]
  },
  {
   "cell_type": "code",
   "execution_count": 19,
   "metadata": {},
   "outputs": [],
   "source": [
    "df_fornecedor_material = df_fornecedor[['Fornecedor','Material']].copy()"
   ]
  },
  {
   "cell_type": "code",
   "execution_count": 20,
   "metadata": {},
   "outputs": [],
   "source": [
    "df_total = pd.merge(df_descarte, df_fornecedor_material, on = 'Material', how='left')"
   ]
  },
  {
   "cell_type": "code",
   "execution_count": 21,
   "metadata": {},
   "outputs": [
    {
     "data": {
      "text/html": [
       "<div>\n",
       "<style scoped>\n",
       "    .dataframe tbody tr th:only-of-type {\n",
       "        vertical-align: middle;\n",
       "    }\n",
       "\n",
       "    .dataframe tbody tr th {\n",
       "        vertical-align: top;\n",
       "    }\n",
       "\n",
       "    .dataframe thead th {\n",
       "        text-align: right;\n",
       "    }\n",
       "</style>\n",
       "<table border=\"1\" class=\"dataframe\">\n",
       "  <thead>\n",
       "    <tr style=\"text-align: right;\">\n",
       "      <th></th>\n",
       "      <th>Centro</th>\n",
       "      <th>Tipo de movimento</th>\n",
       "      <th>Material</th>\n",
       "      <th>Texto breve material</th>\n",
       "      <th>qtd</th>\n",
       "      <th>Data de lançamento</th>\n",
       "      <th>Montante externo em MI</th>\n",
       "      <th>Valor</th>\n",
       "      <th>Referência</th>\n",
       "      <th>Doc.material</th>\n",
       "      <th>Fornecedor</th>\n",
       "    </tr>\n",
       "  </thead>\n",
       "  <tbody>\n",
       "    <tr>\n",
       "      <th>0</th>\n",
       "      <td>601</td>\n",
       "      <td>905</td>\n",
       "      <td>4002950</td>\n",
       "      <td>20 BI C/10CAP</td>\n",
       "      <td>-1</td>\n",
       "      <td>2019-04-15</td>\n",
       "      <td>ABRIL</td>\n",
       "      <td>-32.20</td>\n",
       "      <td>NaN</td>\n",
       "      <td>4901478165</td>\n",
       "      <td>3593</td>\n",
       "    </tr>\n",
       "    <tr>\n",
       "      <th>1</th>\n",
       "      <td>603</td>\n",
       "      <td>905</td>\n",
       "      <td>4002950</td>\n",
       "      <td>20 BI C/10CAP</td>\n",
       "      <td>-4</td>\n",
       "      <td>2019-04-18</td>\n",
       "      <td>ABRIL</td>\n",
       "      <td>-126.14</td>\n",
       "      <td>NaN</td>\n",
       "      <td>4901522724</td>\n",
       "      <td>3593</td>\n",
       "    </tr>\n",
       "    <tr>\n",
       "      <th>2</th>\n",
       "      <td>603</td>\n",
       "      <td>905</td>\n",
       "      <td>4002951</td>\n",
       "      <td>20 BI C/5CAP</td>\n",
       "      <td>-12</td>\n",
       "      <td>2019-04-18</td>\n",
       "      <td>ABRIL</td>\n",
       "      <td>-268.30</td>\n",
       "      <td>NaN</td>\n",
       "      <td>4901522724</td>\n",
       "      <td>3593</td>\n",
       "    </tr>\n",
       "    <tr>\n",
       "      <th>3</th>\n",
       "      <td>605</td>\n",
       "      <td>905</td>\n",
       "      <td>4002951</td>\n",
       "      <td>20 BI C/5CAP</td>\n",
       "      <td>-1</td>\n",
       "      <td>2019-09-26</td>\n",
       "      <td>SETEMBRO</td>\n",
       "      <td>-25.48</td>\n",
       "      <td>NaN</td>\n",
       "      <td>4903980625</td>\n",
       "      <td>3593</td>\n",
       "    </tr>\n",
       "    <tr>\n",
       "      <th>4</th>\n",
       "      <td>607</td>\n",
       "      <td>905</td>\n",
       "      <td>4002951</td>\n",
       "      <td>20 BI C/5CAP</td>\n",
       "      <td>-2</td>\n",
       "      <td>2019-06-29</td>\n",
       "      <td>JUNHO</td>\n",
       "      <td>-42.59</td>\n",
       "      <td>NaN</td>\n",
       "      <td>4902607659</td>\n",
       "      <td>3593</td>\n",
       "    </tr>\n",
       "  </tbody>\n",
       "</table>\n",
       "</div>"
      ],
      "text/plain": [
       "   Centro  Tipo de movimento  Material Texto breve material  qtd  \\\n",
       "0     601                905   4002950        20 BI C/10CAP   -1   \n",
       "1     603                905   4002950        20 BI C/10CAP   -4   \n",
       "2     603                905   4002951         20 BI C/5CAP  -12   \n",
       "3     605                905   4002951         20 BI C/5CAP   -1   \n",
       "4     607                905   4002951         20 BI C/5CAP   -2   \n",
       "\n",
       "  Data de lançamento Montante externo em MI   Valor Referência  Doc.material  \\\n",
       "0         2019-04-15                  ABRIL  -32.20        NaN    4901478165   \n",
       "1         2019-04-18                  ABRIL -126.14        NaN    4901522724   \n",
       "2         2019-04-18                  ABRIL -268.30        NaN    4901522724   \n",
       "3         2019-09-26               SETEMBRO  -25.48        NaN    4903980625   \n",
       "4         2019-06-29                  JUNHO  -42.59        NaN    4902607659   \n",
       "\n",
       "   Fornecedor  \n",
       "0        3593  \n",
       "1        3593  \n",
       "2        3593  \n",
       "3        3593  \n",
       "4        3593  "
      ]
     },
     "execution_count": 21,
     "metadata": {},
     "output_type": "execute_result"
    }
   ],
   "source": [
    "df_total.head()"
   ]
  },
  {
   "cell_type": "code",
   "execution_count": 22,
   "metadata": {},
   "outputs": [
    {
     "data": {
      "text/html": [
       "<div>\n",
       "<style scoped>\n",
       "    .dataframe tbody tr th:only-of-type {\n",
       "        vertical-align: middle;\n",
       "    }\n",
       "\n",
       "    .dataframe tbody tr th {\n",
       "        vertical-align: top;\n",
       "    }\n",
       "\n",
       "    .dataframe thead th {\n",
       "        text-align: right;\n",
       "    }\n",
       "</style>\n",
       "<table border=\"1\" class=\"dataframe\">\n",
       "  <thead>\n",
       "    <tr style=\"text-align: right;\">\n",
       "      <th></th>\n",
       "      <th>Centro</th>\n",
       "      <th>Tipo de movimento</th>\n",
       "      <th>Material</th>\n",
       "      <th>Texto breve material</th>\n",
       "      <th>qtd</th>\n",
       "      <th>Data de lançamento</th>\n",
       "      <th>Montante externo em MI</th>\n",
       "      <th>Valor</th>\n",
       "      <th>Referência</th>\n",
       "      <th>Doc.material</th>\n",
       "      <th>Fornecedor</th>\n",
       "    </tr>\n",
       "  </thead>\n",
       "  <tbody>\n",
       "    <tr>\n",
       "      <th>3782</th>\n",
       "      <td>605</td>\n",
       "      <td>905</td>\n",
       "      <td>4000160</td>\n",
       "      <td>DACTIL OB 30DRG</td>\n",
       "      <td>-1</td>\n",
       "      <td>2019-09-26</td>\n",
       "      <td>SETEMBRO</td>\n",
       "      <td>-13.12</td>\n",
       "      <td>NaN</td>\n",
       "      <td>4903980161</td>\n",
       "      <td>3593</td>\n",
       "    </tr>\n",
       "    <tr>\n",
       "      <th>3783</th>\n",
       "      <td>605</td>\n",
       "      <td>905</td>\n",
       "      <td>4000160</td>\n",
       "      <td>DACTIL OB 30DRG</td>\n",
       "      <td>-1</td>\n",
       "      <td>2019-09-26</td>\n",
       "      <td>SETEMBRO</td>\n",
       "      <td>-13.12</td>\n",
       "      <td>NaN</td>\n",
       "      <td>4903980304</td>\n",
       "      <td>3593</td>\n",
       "    </tr>\n",
       "    <tr>\n",
       "      <th>3784</th>\n",
       "      <td>606</td>\n",
       "      <td>905</td>\n",
       "      <td>4000160</td>\n",
       "      <td>DACTIL OB 30DRG</td>\n",
       "      <td>-1</td>\n",
       "      <td>2019-09-25</td>\n",
       "      <td>SETEMBRO</td>\n",
       "      <td>-13.13</td>\n",
       "      <td>NaN</td>\n",
       "      <td>4903968161</td>\n",
       "      <td>3593</td>\n",
       "    </tr>\n",
       "  </tbody>\n",
       "</table>\n",
       "</div>"
      ],
      "text/plain": [
       "      Centro  Tipo de movimento  Material Texto breve material  qtd  \\\n",
       "3782     605                905   4000160      DACTIL OB 30DRG   -1   \n",
       "3783     605                905   4000160      DACTIL OB 30DRG   -1   \n",
       "3784     606                905   4000160      DACTIL OB 30DRG   -1   \n",
       "\n",
       "     Data de lançamento Montante externo em MI  Valor Referência  \\\n",
       "3782         2019-09-26               SETEMBRO -13.12        NaN   \n",
       "3783         2019-09-26               SETEMBRO -13.12        NaN   \n",
       "3784         2019-09-25               SETEMBRO -13.13        NaN   \n",
       "\n",
       "      Doc.material  Fornecedor  \n",
       "3782    4903980161        3593  \n",
       "3783    4903980304        3593  \n",
       "3784    4903968161        3593  "
      ]
     },
     "execution_count": 22,
     "metadata": {},
     "output_type": "execute_result"
    }
   ],
   "source": [
    "df_total[df_total['Material'] == 4000160]"
   ]
  },
  {
   "cell_type": "markdown",
   "metadata": {},
   "source": [
    "## SALVANDO OS ARQUIVOS"
   ]
  },
  {
   "cell_type": "code",
   "execution_count": 23,
   "metadata": {},
   "outputs": [],
   "source": [
    "writer = pd.ExcelWriter('resultado.xlsx', engine='xlsxwriter')\n",
    "\n",
    "df_total.to_excel(writer, sheet_name = 'total', index = False)\n"
   ]
  },
  {
   "cell_type": "code",
   "execution_count": 24,
   "metadata": {},
   "outputs": [],
   "source": [
    "writer.save()"
   ]
  }
 ],
 "metadata": {
  "kernelspec": {
   "display_name": "Python 3",
   "language": "python",
   "name": "python3"
  },
  "language_info": {
   "codemirror_mode": {
    "name": "ipython",
    "version": 3
   },
   "file_extension": ".py",
   "mimetype": "text/x-python",
   "name": "python",
   "nbconvert_exporter": "python",
   "pygments_lexer": "ipython3",
   "version": "3.7.3"
  }
 },
 "nbformat": 4,
 "nbformat_minor": 4
}
